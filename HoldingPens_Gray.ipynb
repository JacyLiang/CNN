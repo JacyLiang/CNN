{
  "nbformat": 4,
  "nbformat_minor": 0,
  "metadata": {
    "colab": {
      "provenance": [],
      "authorship_tag": "ABX9TyOLWDLJAuhnx4gQDmACyETd",
      "include_colab_link": true
    },
    "kernelspec": {
      "name": "python3",
      "display_name": "Python 3"
    },
    "language_info": {
      "name": "python"
    },
    "accelerator": "GPU",
    "gpuClass": "standard"
  },
  "cells": [
    {
      "cell_type": "markdown",
      "metadata": {
        "id": "view-in-github",
        "colab_type": "text"
      },
      "source": [
        "<a href=\"https://colab.research.google.com/github/JacyLiang/CNN/blob/main/HoldingPens_Gray.ipynb\" target=\"_parent\"><img src=\"https://colab.research.google.com/assets/colab-badge.svg\" alt=\"Open In Colab\"/></a>"
      ]
    },
    {
      "cell_type": "code",
      "source": [
        "!unzip \"/content/sample_data/HandData.zip\""
      ],
      "metadata": {
        "id": "bH43GrNAiXIY"
      },
      "execution_count": null,
      "outputs": []
    },
    {
      "cell_type": "code",
      "source": [
        "#讀取圖片\n",
        "import os, cv2, glob\n",
        "\n",
        "images = []\n",
        "labels = []\n",
        "dict_labels = {\"PG\":0, \"PN\":1, \"ST\":2, \"SQ\":3, \"DT\":4, \"LT\":5, \"DQ\":6, \"LQ\":7}\n",
        "\n",
        "for folders in glob.glob('/content/HandData/*'):\n",
        "    print(folders, \"照片讀取中..\")\n",
        "    for filename in os.listdir(folders):\n",
        "        label = folders.split(\"/\")[-1]\n",
        "        try:\n",
        "            img = cv2.imread(os.path.join(folders,filename), cv2.IMREAD_GRAYSCALE)\n",
        "            img = cv2.resize(img, dsize=(80,80))\n",
        "            if img is not None:\n",
        "                images.append(img)\n",
        "                labels.append(dict_labels[label])\n",
        "        except:\n",
        "            pass\n",
        "print(\"照片讀取完畢\")"
      ],
      "metadata": {
        "colab": {
          "base_uri": "https://localhost:8080/"
        },
        "id": "TXHtDs49jzVO",
        "outputId": "999fa865-d7c9-47e5-c973-4db5cf3be87c"
      },
      "execution_count": 60,
      "outputs": [
        {
          "output_type": "stream",
          "name": "stdout",
          "text": [
            "/content/HandData/ST 照片讀取中..\n",
            "/content/HandData/DQ 照片讀取中..\n",
            "/content/HandData/PN 照片讀取中..\n",
            "/content/HandData/LT 照片讀取中..\n",
            "/content/HandData/LQ 照片讀取中..\n",
            "/content/HandData/DT 照片讀取中..\n",
            "/content/HandData/PG 照片讀取中..\n",
            "/content/HandData/SQ 照片讀取中..\n",
            "照片讀取完畢\n"
          ]
        }
      ]
    },
    {
      "cell_type": "code",
      "source": [
        "#資料預處理\n",
        "\n",
        "from sklearn.model_selection import train_test_split\n",
        "import numpy as np\n",
        "from keras.utils import np_utils\n",
        "\n",
        "#(資料分割)\n",
        "train_feature, test_feature, train_label, test_label = train_test_split(images, labels, test_size=0.2)\n",
        "\n",
        "train_feature = np.array(train_feature)\n",
        "test_feature = np.array(test_feature)\n",
        "train_label = np.array(train_label)\n",
        "test_label = np.array(test_label)\n",
        "\n",
        "#(顯示訓練及測試資料內容)\n",
        "print(\"訓練資料維度:{}\".format(train_feature.shape))\n",
        "print(\"訓練標籤維度:{}\".format(train_label.shape))\n",
        "print(\"測試資料維度:{}\".format(train_feature.shape))\n",
        "print(\"測試標籤維度:{}\".format(train_label.shape))\n",
        "\n",
        "#(圖片資料標準化)\n",
        "train_feature = train_feature/255\n",
        "test_feature = test_feature/255\n",
        "\n",
        "#(標籤轉換為OneHot編碼)\n",
        "train_label = np_utils.to_categorical(train_label)\n",
        "test_label = np_utils.to_categorical(test_label)"
      ],
      "metadata": {
        "colab": {
          "base_uri": "https://localhost:8080/"
        },
        "id": "TMfdnw-qkVIY",
        "outputId": "03c7379f-c5a1-4560-938e-fdd56519248e"
      },
      "execution_count": 61,
      "outputs": [
        {
          "output_type": "stream",
          "name": "stdout",
          "text": [
            "訓練資料維度:(653, 80, 80)\n",
            "訓練標籤維度:(653,)\n",
            "測試資料維度:(653, 80, 80)\n",
            "測試標籤維度:(653,)\n"
          ]
        }
      ]
    },
    {
      "cell_type": "code",
      "source": [
        "#建立CNN模型\n",
        "\n",
        "from keras.models import Sequential\n",
        "from keras.layers import Conv2D, MaxPooling2D, Dropout, Flatten, Dense\n",
        "\n",
        "model = Sequential()\n",
        "#第一層\n",
        "model.add(Conv2D(filters=8, kernel_size=(5,5), padding='same', input_shape=(80,80,1), activation='relu'))\n",
        "model.add(MaxPooling2D(pool_size=(2,2)))\n",
        "model.add(Dropout(0.2))\n",
        "#第二層\n",
        "model.add(Conv2D(filters=16, kernel_size=(5,5), padding='same', activation='relu'))\n",
        "model.add(MaxPooling2D(pool_size=(2,2)))\n",
        "model.add(Dropout(0.2))\n",
        "#第三層\n",
        "model.add(Conv2D(filters=32, kernel_size=(5,5), padding='same', activation='relu'))\n",
        "model.add(MaxPooling2D(pool_size=(2,2)))\n",
        "model.add(Dropout(0.2))\n",
        "#平坦層\n",
        "model.add(Flatten())\n",
        "model.add(Dropout(0.2))\n",
        "#全連結隱藏層\n",
        "model.add(Dense(units=128, activation='relu'))\n",
        "#輸出層\n",
        "model.add(Dense(units=8, activation='softmax'))\n",
        "\n",
        "#查看權重數量\n",
        "model.summary()\n",
        "\n",
        "#訓練模型及評估準確率\n",
        "model.compile(loss='categorical_crossentropy', optimizer='adam', metrics=['accuracy'])\n",
        "model.fit(x=train_feature, y=train_label, validation_split=0.2, epochs=20, batch_size=100, verbose=2)\n",
        "\n",
        "#評估準確率\n",
        "scores = model.evaluate(test_feature, test_label)\n",
        "print(\"\\n準確率=\", scores[1])"
      ],
      "metadata": {
        "colab": {
          "base_uri": "https://localhost:8080/"
        },
        "id": "DM-Tb1ohkaV6",
        "outputId": "8b23d131-dc90-4b9a-d7b5-03acce405c43"
      },
      "execution_count": 62,
      "outputs": [
        {
          "output_type": "stream",
          "name": "stdout",
          "text": [
            "Model: \"sequential_19\"\n",
            "_________________________________________________________________\n",
            " Layer (type)                Output Shape              Param #   \n",
            "=================================================================\n",
            " conv2d_58 (Conv2D)          (None, 80, 80, 8)         208       \n",
            "                                                                 \n",
            " max_pooling2d_56 (MaxPoolin  (None, 40, 40, 8)        0         \n",
            " g2D)                                                            \n",
            "                                                                 \n",
            " dropout_73 (Dropout)        (None, 40, 40, 8)         0         \n",
            "                                                                 \n",
            " conv2d_59 (Conv2D)          (None, 40, 40, 16)        3216      \n",
            "                                                                 \n",
            " max_pooling2d_57 (MaxPoolin  (None, 20, 20, 16)       0         \n",
            " g2D)                                                            \n",
            "                                                                 \n",
            " dropout_74 (Dropout)        (None, 20, 20, 16)        0         \n",
            "                                                                 \n",
            " conv2d_60 (Conv2D)          (None, 20, 20, 32)        12832     \n",
            "                                                                 \n",
            " max_pooling2d_58 (MaxPoolin  (None, 10, 10, 32)       0         \n",
            " g2D)                                                            \n",
            "                                                                 \n",
            " dropout_75 (Dropout)        (None, 10, 10, 32)        0         \n",
            "                                                                 \n",
            " flatten_17 (Flatten)        (None, 3200)              0         \n",
            "                                                                 \n",
            " dropout_76 (Dropout)        (None, 3200)              0         \n",
            "                                                                 \n",
            " dense_34 (Dense)            (None, 128)               409728    \n",
            "                                                                 \n",
            " dense_35 (Dense)            (None, 8)                 1032      \n",
            "                                                                 \n",
            "=================================================================\n",
            "Total params: 427,016\n",
            "Trainable params: 427,016\n",
            "Non-trainable params: 0\n",
            "_________________________________________________________________\n",
            "Epoch 1/20\n",
            "6/6 - 1s - loss: 2.0922 - accuracy: 0.1379 - val_loss: 2.0829 - val_accuracy: 0.1145 - 809ms/epoch - 135ms/step\n",
            "Epoch 2/20\n",
            "6/6 - 0s - loss: 2.0741 - accuracy: 0.1648 - val_loss: 2.0834 - val_accuracy: 0.0992 - 101ms/epoch - 17ms/step\n",
            "Epoch 3/20\n",
            "6/6 - 0s - loss: 2.0711 - accuracy: 0.1590 - val_loss: 2.0872 - val_accuracy: 0.1069 - 99ms/epoch - 16ms/step\n",
            "Epoch 4/20\n",
            "6/6 - 0s - loss: 2.0703 - accuracy: 0.1571 - val_loss: 2.0923 - val_accuracy: 0.0992 - 96ms/epoch - 16ms/step\n",
            "Epoch 5/20\n",
            "6/6 - 0s - loss: 2.0680 - accuracy: 0.1533 - val_loss: 2.0845 - val_accuracy: 0.1069 - 98ms/epoch - 16ms/step\n",
            "Epoch 6/20\n",
            "6/6 - 0s - loss: 2.0628 - accuracy: 0.1782 - val_loss: 2.0886 - val_accuracy: 0.1527 - 83ms/epoch - 14ms/step\n",
            "Epoch 7/20\n",
            "6/6 - 0s - loss: 2.0555 - accuracy: 0.1954 - val_loss: 2.0879 - val_accuracy: 0.1450 - 81ms/epoch - 14ms/step\n",
            "Epoch 8/20\n",
            "6/6 - 0s - loss: 2.0386 - accuracy: 0.1935 - val_loss: 2.0732 - val_accuracy: 0.1298 - 80ms/epoch - 13ms/step\n",
            "Epoch 9/20\n",
            "6/6 - 0s - loss: 2.0135 - accuracy: 0.2165 - val_loss: 2.0731 - val_accuracy: 0.1527 - 85ms/epoch - 14ms/step\n",
            "Epoch 10/20\n",
            "6/6 - 0s - loss: 1.9874 - accuracy: 0.2701 - val_loss: 2.0610 - val_accuracy: 0.1679 - 93ms/epoch - 15ms/step\n",
            "Epoch 11/20\n",
            "6/6 - 0s - loss: 1.9398 - accuracy: 0.2778 - val_loss: 2.0826 - val_accuracy: 0.1450 - 76ms/epoch - 13ms/step\n",
            "Epoch 12/20\n",
            "6/6 - 0s - loss: 1.9268 - accuracy: 0.2759 - val_loss: 2.0595 - val_accuracy: 0.1527 - 75ms/epoch - 13ms/step\n",
            "Epoch 13/20\n",
            "6/6 - 0s - loss: 1.8746 - accuracy: 0.3008 - val_loss: 2.1109 - val_accuracy: 0.0992 - 76ms/epoch - 13ms/step\n",
            "Epoch 14/20\n",
            "6/6 - 0s - loss: 1.8025 - accuracy: 0.3295 - val_loss: 2.1603 - val_accuracy: 0.1756 - 78ms/epoch - 13ms/step\n",
            "Epoch 15/20\n",
            "6/6 - 0s - loss: 1.8119 - accuracy: 0.3276 - val_loss: 2.1035 - val_accuracy: 0.1603 - 79ms/epoch - 13ms/step\n",
            "Epoch 16/20\n",
            "6/6 - 0s - loss: 1.7602 - accuracy: 0.3966 - val_loss: 2.1506 - val_accuracy: 0.1527 - 79ms/epoch - 13ms/step\n",
            "Epoch 17/20\n",
            "6/6 - 0s - loss: 1.6729 - accuracy: 0.3908 - val_loss: 2.2880 - val_accuracy: 0.1221 - 83ms/epoch - 14ms/step\n",
            "Epoch 18/20\n",
            "6/6 - 0s - loss: 1.6182 - accuracy: 0.4387 - val_loss: 2.3143 - val_accuracy: 0.1374 - 81ms/epoch - 13ms/step\n",
            "Epoch 19/20\n",
            "6/6 - 0s - loss: 1.6073 - accuracy: 0.4272 - val_loss: 2.2531 - val_accuracy: 0.1374 - 75ms/epoch - 13ms/step\n",
            "Epoch 20/20\n",
            "6/6 - 0s - loss: 1.5474 - accuracy: 0.4253 - val_loss: 2.3486 - val_accuracy: 0.1221 - 75ms/epoch - 12ms/step\n",
            "6/6 [==============================] - 0s 4ms/step - loss: 2.3196 - accuracy: 0.1829\n",
            "\n",
            "準確率= 0.18292683362960815\n"
          ]
        }
      ]
    }
  ]
}