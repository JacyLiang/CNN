{
  "nbformat": 4,
  "nbformat_minor": 0,
  "metadata": {
    "colab": {
      "provenance": [],
      "authorship_tag": "ABX9TyOKTqqjaY/OeAwnITrvGMu+",
      "include_colab_link": true
    },
    "kernelspec": {
      "name": "python3",
      "display_name": "Python 3"
    },
    "language_info": {
      "name": "python"
    },
    "accelerator": "GPU",
    "gpuClass": "standard"
  },
  "cells": [
    {
      "cell_type": "markdown",
      "metadata": {
        "id": "view-in-github",
        "colab_type": "text"
      },
      "source": [
        "<a href=\"https://colab.research.google.com/github/JacyLiang/CNN/blob/main/HoldingPens.ipynb\" target=\"_parent\"><img src=\"https://colab.research.google.com/assets/colab-badge.svg\" alt=\"Open In Colab\"/></a>"
      ]
    },
    {
      "cell_type": "code",
      "source": [
        "!unzip \"/content/sample_data/HandData.zip\""
      ],
      "metadata": {
        "id": "bH43GrNAiXIY"
      },
      "execution_count": null,
      "outputs": []
    },
    {
      "cell_type": "code",
      "source": [
        "#讀取圖片\n",
        "import os, cv2, glob\n",
        "\n",
        "images = []\n",
        "labels = []\n",
        "dict_labels = {\"PG\":0, \"PN\":1, \"ST\":2, \"SQ\":3, \"DT\":4, \"LT\":5, \"DQ\":6, \"LQ\":7}\n",
        "\n",
        "for folders in glob.glob('/content/HandData/*'):\n",
        "    print(folders, \"照片讀取中..\")\n",
        "    for filename in os.listdir(folders):\n",
        "        label = folders.split(\"/\")[-1]\n",
        "        try:\n",
        "            img = cv2.imread(os.path.join(folders,filename))\n",
        "            img = cv2.resize(img, dsize=(80,80))\n",
        "            if img is not None:\n",
        "                images.append(img)\n",
        "                labels.append(dict_labels[label])\n",
        "        except:\n",
        "            pass\n",
        "print(\"照片讀取完畢\")"
      ],
      "metadata": {
        "colab": {
          "base_uri": "https://localhost:8080/"
        },
        "id": "TXHtDs49jzVO",
        "outputId": "aa4db312-1a44-44ad-e04f-55c040857a8c"
      },
      "execution_count": 34,
      "outputs": [
        {
          "output_type": "stream",
          "name": "stdout",
          "text": [
            "/content/HandData/ST 照片讀取中..\n",
            "/content/HandData/DQ 照片讀取中..\n",
            "/content/HandData/PN 照片讀取中..\n",
            "/content/HandData/LT 照片讀取中..\n",
            "/content/HandData/LQ 照片讀取中..\n",
            "/content/HandData/DT 照片讀取中..\n",
            "/content/HandData/PG 照片讀取中..\n",
            "/content/HandData/SQ 照片讀取中..\n",
            "照片讀取完畢\n"
          ]
        }
      ]
    },
    {
      "cell_type": "code",
      "source": [
        "#資料預處理\n",
        "\n",
        "from sklearn.model_selection import train_test_split\n",
        "import numpy as np\n",
        "from keras.utils import np_utils\n",
        "\n",
        "#(資料分割)\n",
        "train_feature, test_feature, train_label, test_label = train_test_split(images, labels, test_size=0.2)\n",
        "\n",
        "train_feature = np.array(train_feature)\n",
        "test_feature = np.array(test_feature)\n",
        "train_label = np.array(train_label)\n",
        "test_label = np.array(test_label)\n",
        "\n",
        "#(顯示訓練及測試資料內容)\n",
        "print(\"訓練資料維度:{}\".format(train_feature.shape))\n",
        "print(\"訓練標籤維度:{}\".format(train_label.shape))\n",
        "print(\"測試資料維度:{}\".format(train_feature.shape))\n",
        "print(\"測試標籤維度:{}\".format(train_label.shape))\n",
        "\n",
        "#(圖片資料標準化)\n",
        "train_feature = train_feature/255\n",
        "test_feature = test_feature/255\n",
        "\n",
        "#(標籤轉換為OneHot編碼)\n",
        "train_label = np_utils.to_categorical(train_label)\n",
        "test_label = np_utils.to_categorical(test_label)"
      ],
      "metadata": {
        "colab": {
          "base_uri": "https://localhost:8080/"
        },
        "id": "TMfdnw-qkVIY",
        "outputId": "67508bf7-4c92-4811-bf26-c978ee0c0952"
      },
      "execution_count": 35,
      "outputs": [
        {
          "output_type": "stream",
          "name": "stdout",
          "text": [
            "訓練資料維度:(653, 80, 80, 3)\n",
            "訓練標籤維度:(653,)\n",
            "測試資料維度:(653, 80, 80, 3)\n",
            "測試標籤維度:(653,)\n"
          ]
        }
      ]
    },
    {
      "cell_type": "code",
      "source": [
        "#建立CNN模型\n",
        "\n",
        "from keras.models import Sequential\n",
        "from keras.layers import Conv2D, MaxPooling2D, Dropout, Flatten, Dense\n",
        "\n",
        "model = Sequential()\n",
        "#第一層\n",
        "model.add(Conv2D(filters=8, kernel_size=(5,5), padding='same', input_shape=(80,80,3), activation='relu'))\n",
        "model.add(MaxPooling2D(pool_size=(2,2)))\n",
        "model.add(Dropout(0.2))\n",
        "#第二層\n",
        "model.add(Conv2D(filters=16, kernel_size=(5,5), padding='same', activation='relu'))\n",
        "model.add(MaxPooling2D(pool_size=(2,2)))\n",
        "model.add(Dropout(0.2))\n",
        "#第三層\n",
        "model.add(Conv2D(filters=32, kernel_size=(5,5), padding='same', activation='relu'))\n",
        "model.add(MaxPooling2D(pool_size=(2,2)))\n",
        "model.add(Dropout(0.2))\n",
        "#平坦層\n",
        "model.add(Flatten())\n",
        "model.add(Dropout(0.2))\n",
        "#全連結隱藏層\n",
        "model.add(Dense(units=128, activation='relu'))\n",
        "#輸出層\n",
        "model.add(Dense(units=8, activation='softmax'))\n",
        "\n",
        "#查看權重數量\n",
        "model.summary()\n",
        "\n",
        "#訓練模型及評估準確率\n",
        "model.compile(loss='categorical_crossentropy', optimizer='adam', metrics=['accuracy'])\n",
        "model.fit(x=train_feature, y=train_label, validation_split=0.2, epochs=20, batch_size=16, verbose=2)\n",
        "\n",
        "#評估準確率\n",
        "scores = model.evaluate(test_feature, test_label)\n",
        "print(\"\\n準確率=\", scores[1])"
      ],
      "metadata": {
        "colab": {
          "base_uri": "https://localhost:8080/"
        },
        "id": "DM-Tb1ohkaV6",
        "outputId": "c278af08-db17-4c89-8624-9e3a24dc3b12"
      },
      "execution_count": 36,
      "outputs": [
        {
          "output_type": "stream",
          "name": "stdout",
          "text": [
            "Model: \"sequential\"\n",
            "_________________________________________________________________\n",
            " Layer (type)                Output Shape              Param #   \n",
            "=================================================================\n",
            " conv2d (Conv2D)             (None, 80, 80, 8)         608       \n",
            "                                                                 \n",
            " max_pooling2d (MaxPooling2D  (None, 40, 40, 8)        0         \n",
            " )                                                               \n",
            "                                                                 \n",
            " dropout (Dropout)           (None, 40, 40, 8)         0         \n",
            "                                                                 \n",
            " conv2d_1 (Conv2D)           (None, 40, 40, 16)        3216      \n",
            "                                                                 \n",
            " max_pooling2d_1 (MaxPooling  (None, 20, 20, 16)       0         \n",
            " 2D)                                                             \n",
            "                                                                 \n",
            " dropout_1 (Dropout)         (None, 20, 20, 16)        0         \n",
            "                                                                 \n",
            " conv2d_2 (Conv2D)           (None, 20, 20, 32)        12832     \n",
            "                                                                 \n",
            " max_pooling2d_2 (MaxPooling  (None, 10, 10, 32)       0         \n",
            " 2D)                                                             \n",
            "                                                                 \n",
            " dropout_2 (Dropout)         (None, 10, 10, 32)        0         \n",
            "                                                                 \n",
            " flatten (Flatten)           (None, 3200)              0         \n",
            "                                                                 \n",
            " dropout_3 (Dropout)         (None, 3200)              0         \n",
            "                                                                 \n",
            " dense (Dense)               (None, 128)               409728    \n",
            "                                                                 \n",
            " dense_1 (Dense)             (None, 8)                 1032      \n",
            "                                                                 \n",
            "=================================================================\n",
            "Total params: 427,416\n",
            "Trainable params: 427,416\n",
            "Non-trainable params: 0\n",
            "_________________________________________________________________\n",
            "Epoch 1/20\n",
            "33/33 - 9s - loss: 2.1074 - accuracy: 0.1169 - val_loss: 2.0811 - val_accuracy: 0.1603 - 9s/epoch - 282ms/step\n",
            "Epoch 2/20\n",
            "33/33 - 0s - loss: 2.0795 - accuracy: 0.1322 - val_loss: 2.0822 - val_accuracy: 0.1527 - 193ms/epoch - 6ms/step\n",
            "Epoch 3/20\n",
            "33/33 - 0s - loss: 2.0736 - accuracy: 0.1494 - val_loss: 2.0875 - val_accuracy: 0.1145 - 216ms/epoch - 7ms/step\n",
            "Epoch 4/20\n",
            "33/33 - 0s - loss: 2.0639 - accuracy: 0.1858 - val_loss: 2.0815 - val_accuracy: 0.1298 - 177ms/epoch - 5ms/step\n",
            "Epoch 5/20\n",
            "33/33 - 0s - loss: 2.0529 - accuracy: 0.1705 - val_loss: 2.0792 - val_accuracy: 0.1145 - 184ms/epoch - 6ms/step\n",
            "Epoch 6/20\n",
            "33/33 - 0s - loss: 2.0180 - accuracy: 0.2050 - val_loss: 2.0843 - val_accuracy: 0.1527 - 186ms/epoch - 6ms/step\n",
            "Epoch 7/20\n",
            "33/33 - 0s - loss: 1.9731 - accuracy: 0.2203 - val_loss: 2.0943 - val_accuracy: 0.1450 - 225ms/epoch - 7ms/step\n",
            "Epoch 8/20\n",
            "33/33 - 0s - loss: 1.8681 - accuracy: 0.2912 - val_loss: 2.0652 - val_accuracy: 0.1527 - 180ms/epoch - 5ms/step\n",
            "Epoch 9/20\n",
            "33/33 - 0s - loss: 1.8201 - accuracy: 0.3084 - val_loss: 2.0930 - val_accuracy: 0.1298 - 183ms/epoch - 6ms/step\n",
            "Epoch 10/20\n",
            "33/33 - 0s - loss: 1.7305 - accuracy: 0.3448 - val_loss: 2.1617 - val_accuracy: 0.1450 - 183ms/epoch - 6ms/step\n",
            "Epoch 11/20\n",
            "33/33 - 0s - loss: 1.6728 - accuracy: 0.3755 - val_loss: 2.2159 - val_accuracy: 0.1527 - 214ms/epoch - 6ms/step\n",
            "Epoch 12/20\n",
            "33/33 - 0s - loss: 1.5529 - accuracy: 0.4253 - val_loss: 2.1608 - val_accuracy: 0.1832 - 191ms/epoch - 6ms/step\n",
            "Epoch 13/20\n",
            "33/33 - 0s - loss: 1.4205 - accuracy: 0.5019 - val_loss: 2.4148 - val_accuracy: 0.2290 - 184ms/epoch - 6ms/step\n",
            "Epoch 14/20\n",
            "33/33 - 0s - loss: 1.3392 - accuracy: 0.5211 - val_loss: 2.4425 - val_accuracy: 0.1221 - 176ms/epoch - 5ms/step\n",
            "Epoch 15/20\n",
            "33/33 - 0s - loss: 1.1604 - accuracy: 0.5900 - val_loss: 2.5540 - val_accuracy: 0.1832 - 183ms/epoch - 6ms/step\n",
            "Epoch 16/20\n",
            "33/33 - 0s - loss: 1.0700 - accuracy: 0.6092 - val_loss: 3.0924 - val_accuracy: 0.1756 - 187ms/epoch - 6ms/step\n",
            "Epoch 17/20\n",
            "33/33 - 0s - loss: 0.8888 - accuracy: 0.6762 - val_loss: 3.1905 - val_accuracy: 0.1527 - 176ms/epoch - 5ms/step\n",
            "Epoch 18/20\n",
            "33/33 - 0s - loss: 0.7281 - accuracy: 0.7548 - val_loss: 3.1390 - val_accuracy: 0.1679 - 226ms/epoch - 7ms/step\n",
            "Epoch 19/20\n",
            "33/33 - 0s - loss: 0.6127 - accuracy: 0.8065 - val_loss: 3.5315 - val_accuracy: 0.2061 - 176ms/epoch - 5ms/step\n",
            "Epoch 20/20\n",
            "33/33 - 0s - loss: 0.4976 - accuracy: 0.8199 - val_loss: 3.7631 - val_accuracy: 0.1603 - 213ms/epoch - 6ms/step\n",
            "6/6 [==============================] - 0s 16ms/step - loss: 3.7212 - accuracy: 0.1768\n",
            "\n",
            "準確率= 0.1768292635679245\n"
          ]
        }
      ]
    }
  ]
}