{
 "cells": [
  {
   "cell_type": "code",
   "execution_count": 1,
   "id": "8d5107a8",
   "metadata": {},
   "outputs": [],
   "source": [
    "from keras.utils import np_utils\n",
    "from keras.models import Sequential\n",
    "from keras.layers import Dense, Dropout\n",
    "import keras\n",
    "import pandas as pd\n",
    "import numpy as np\n",
    "import sklearn\n",
    "from sklearn.preprocessing import MinMaxScaler\n",
    "from sklearn.model_selection import train_test_split"
   ]
  },
  {
   "cell_type": "code",
   "execution_count": 2,
   "id": "1d7517c5",
   "metadata": {},
   "outputs": [],
   "source": [
    "model2 = keras.models.load_model('CNN_origin.h5')"
   ]
  },
  {
   "cell_type": "code",
   "execution_count": 3,
   "id": "7fbaa03e",
   "metadata": {},
   "outputs": [],
   "source": [
    "df2 = pd.read_csv('output0_1.csv', encoding='utf-8')\n",
    "df2 = sklearn.utils.shuffle(df2)\n",
    "label2 = df2[\"class\"]\n",
    "data2 = df2.iloc[:,1:]\n",
    "data2n = np.array(data2)\n",
    "label2n = np.array(label2)\n",
    "label2n  = np_utils.to_categorical(label2n)\n",
    "data2n = np.reshape(data2n, (data2n.shape[0], data2n.shape[1], 1))"
   ]
  },
  {
   "cell_type": "code",
   "execution_count": 4,
   "id": "04b8859a",
   "metadata": {},
   "outputs": [
    {
     "name": "stdout",
     "output_type": "stream",
     "text": [
      "94/94 [==============================] - 6s 32ms/step - loss: 1.6623 - accuracy: 0.5699\n"
     ]
    },
    {
     "data": {
      "text/plain": [
       "[1.6622684001922607, 0.5699464678764343]"
      ]
     },
     "execution_count": 4,
     "metadata": {},
     "output_type": "execute_result"
    }
   ],
   "source": [
    "score = model2.evaluate(x=data2n, y=label2n, verbose=1)\n",
    "score"
   ]
  },
  {
   "cell_type": "code",
   "execution_count": null,
   "id": "ebbe86a9",
   "metadata": {},
   "outputs": [],
   "source": []
  }
 ],
 "metadata": {
  "kernelspec": {
   "display_name": "Python 3 (ipykernel)",
   "language": "python",
   "name": "python3"
  },
  "language_info": {
   "codemirror_mode": {
    "name": "ipython",
    "version": 3
   },
   "file_extension": ".py",
   "mimetype": "text/x-python",
   "name": "python",
   "nbconvert_exporter": "python",
   "pygments_lexer": "ipython3",
   "version": "3.8.15"
  }
 },
 "nbformat": 4,
 "nbformat_minor": 5
}
