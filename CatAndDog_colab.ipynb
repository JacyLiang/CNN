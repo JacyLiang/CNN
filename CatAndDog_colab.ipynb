{
  "nbformat": 4,
  "nbformat_minor": 0,
  "metadata": {
    "colab": {
      "provenance": [],
      "collapsed_sections": [],
      "authorship_tag": "ABX9TyMCe8InDktL8RhQdg4Y22Vb",
      "include_colab_link": true
    },
    "kernelspec": {
      "name": "python3",
      "display_name": "Python 3"
    },
    "language_info": {
      "name": "python"
    },
    "accelerator": "GPU",
    "gpuClass": "standard"
  },
  "cells": [
    {
      "cell_type": "markdown",
      "metadata": {
        "id": "view-in-github",
        "colab_type": "text"
      },
      "source": [
        "<a href=\"https://colab.research.google.com/github/JacyLiang/CNN/blob/main/CatAndDog_colab.ipynb\" target=\"_parent\"><img src=\"https://colab.research.google.com/assets/colab-badge.svg\" alt=\"Open In Colab\"/></a>"
      ]
    },
    {
      "cell_type": "code",
      "source": [
        "!unzip \"/content/sample_data/test.zip\""
      ],
      "metadata": {
        "id": "g6-j9YTT8r6C"
      },
      "execution_count": null,
      "outputs": []
    },
    {
      "cell_type": "code",
      "source": [
        "#讀取圖片\n",
        "import os, cv2, glob\n",
        "\n",
        "images = []\n",
        "labels = []\n",
        "dict_labels = {\"Cat\":0, \"Dog\":1}\n",
        "\n",
        "for folders in glob.glob('/content/test/*'):\n",
        "    print(folders, \"照片讀取中..\")\n",
        "    for filename in os.listdir(folders):\n",
        "        label = folders.split(\"/\")[-1]\n",
        "        try:\n",
        "            img = cv2.imread(os.path.join(folders,filename))\n",
        "            img = cv2.resize(img, dsize=(80,80))\n",
        "            if img is not None:\n",
        "                images.append(img)\n",
        "                labels.append(dict_labels[label])\n",
        "        except:\n",
        "            pass\n",
        "print(\"照片讀取完畢\")"
      ],
      "metadata": {
        "colab": {
          "base_uri": "https://localhost:8080/"
        },
        "id": "8iT1DqNFAwsN",
        "outputId": "1158e454-7ea7-4453-a626-4362d02e2d12"
      },
      "execution_count": 75,
      "outputs": [
        {
          "output_type": "stream",
          "name": "stdout",
          "text": [
            "/content/test/Dog 照片讀取中..\n",
            "/content/test/Cat 照片讀取中..\n",
            "照片讀取完畢\n"
          ]
        }
      ]
    },
    {
      "cell_type": "code",
      "source": [
        "#資料預處理\n",
        "\n",
        "from sklearn.model_selection import train_test_split\n",
        "import numpy as np\n",
        "from keras.utils import np_utils\n",
        "\n",
        "#(資料分割)\n",
        "train_feature, test_feature, train_label, test_label = train_test_split(images, labels, test_size=0.2)\n",
        "\n",
        "train_feature = np.array(train_feature)\n",
        "test_feature = np.array(test_feature)\n",
        "train_label = np.array(train_label)\n",
        "test_label = np.array(test_label)\n",
        "\n",
        "#(顯示訓練及測試資料內容)\n",
        "print(\"訓練資料維度:{}\".format(train_feature.shape))\n",
        "print(\"訓練標籤維度:{}\".format(train_label.shape))\n",
        "print(\"測試資料維度:{}\".format(train_feature.shape))\n",
        "print(\"測試標籤維度:{}\".format(train_label.shape))\n",
        "\n",
        "#(圖片資料標準化)\n",
        "train_feature = train_feature/255\n",
        "test_feature = test_feature/255\n",
        "\n",
        "#(標籤轉換為OneHot編碼)\n",
        "train_label = np_utils.to_categorical(train_label)\n",
        "test_label = np_utils.to_categorical(test_label)"
      ],
      "metadata": {
        "colab": {
          "base_uri": "https://localhost:8080/"
        },
        "id": "9vQuqPgEBN8s",
        "outputId": "7f152a9a-7c5a-4c46-8854-df8874fb84f1"
      },
      "execution_count": 76,
      "outputs": [
        {
          "output_type": "stream",
          "name": "stdout",
          "text": [
            "訓練資料維度:(19956, 80, 80, 3)\n",
            "訓練標籤維度:(19956,)\n",
            "測試資料維度:(19956, 80, 80, 3)\n",
            "測試標籤維度:(19956,)\n"
          ]
        }
      ]
    },
    {
      "cell_type": "code",
      "source": [
        "#建立CNN模型\n",
        "\n",
        "from keras.models import Sequential\n",
        "from keras.layers import Conv2D, MaxPooling2D, Dropout, Flatten, Dense\n",
        "\n",
        "model = Sequential()\n",
        "#第一層\n",
        "model.add(Conv2D(filters=8, kernel_size=(5,5), padding='same', input_shape=(80,80,3), activation='relu'))\n",
        "model.add(MaxPooling2D(pool_size=(2,2)))\n",
        "model.add(Dropout(0.2))\n",
        "#第二層\n",
        "model.add(Conv2D(filters=16, kernel_size=(5,5), padding='same', activation='relu'))\n",
        "model.add(MaxPooling2D(pool_size=(2,2)))\n",
        "model.add(Dropout(0.2))\n",
        "#第三層\n",
        "model.add(Conv2D(filters=32, kernel_size=(5,5), padding='same', activation='relu'))\n",
        "model.add(MaxPooling2D(pool_size=(2,2)))\n",
        "model.add(Dropout(0.2))\n",
        "#平坦層\n",
        "model.add(Flatten())\n",
        "model.add(Dropout(0.2))\n",
        "#全連結隱藏層\n",
        "model.add(Dense(units=128, activation='relu'))\n",
        "#輸出層\n",
        "model.add(Dense(units=2, activation='softmax'))\n",
        "\n",
        "#查看權重數量\n",
        "model.summary()\n",
        "\n",
        "#訓練模型及評估準確率\n",
        "model.compile(loss='categorical_crossentropy', optimizer='adam', metrics=['accuracy'])\n",
        "model.fit(x=train_feature, y=train_label, validation_split=0.2, epochs=20, batch_size=100, verbose=2)\n",
        "\n",
        "#評估準確率\n",
        "scores = model.evaluate(test_feature, test_label)\n",
        "print(\"\\n準確率=\", scores[1])"
      ],
      "metadata": {
        "colab": {
          "base_uri": "https://localhost:8080/"
        },
        "id": "YjKumBl4BV0A",
        "outputId": "73f21a97-940c-47fd-aff3-67c6cf1bce8b"
      },
      "execution_count": 77,
      "outputs": [
        {
          "output_type": "stream",
          "name": "stdout",
          "text": [
            "Model: \"sequential\"\n",
            "_________________________________________________________________\n",
            " Layer (type)                Output Shape              Param #   \n",
            "=================================================================\n",
            " conv2d (Conv2D)             (None, 80, 80, 8)         608       \n",
            "                                                                 \n",
            " max_pooling2d (MaxPooling2D  (None, 40, 40, 8)        0         \n",
            " )                                                               \n",
            "                                                                 \n",
            " dropout (Dropout)           (None, 40, 40, 8)         0         \n",
            "                                                                 \n",
            " conv2d_1 (Conv2D)           (None, 40, 40, 16)        3216      \n",
            "                                                                 \n",
            " max_pooling2d_1 (MaxPooling  (None, 20, 20, 16)       0         \n",
            " 2D)                                                             \n",
            "                                                                 \n",
            " dropout_1 (Dropout)         (None, 20, 20, 16)        0         \n",
            "                                                                 \n",
            " conv2d_2 (Conv2D)           (None, 20, 20, 32)        12832     \n",
            "                                                                 \n",
            " max_pooling2d_2 (MaxPooling  (None, 10, 10, 32)       0         \n",
            " 2D)                                                             \n",
            "                                                                 \n",
            " dropout_2 (Dropout)         (None, 10, 10, 32)        0         \n",
            "                                                                 \n",
            " flatten (Flatten)           (None, 3200)              0         \n",
            "                                                                 \n",
            " dropout_3 (Dropout)         (None, 3200)              0         \n",
            "                                                                 \n",
            " dense (Dense)               (None, 128)               409728    \n",
            "                                                                 \n",
            " dense_1 (Dense)             (None, 2)                 258       \n",
            "                                                                 \n",
            "=================================================================\n",
            "Total params: 426,642\n",
            "Trainable params: 426,642\n",
            "Non-trainable params: 0\n",
            "_________________________________________________________________\n",
            "Epoch 1/20\n",
            "160/160 - 12s - loss: 0.6976 - accuracy: 0.5164 - val_loss: 0.6790 - val_accuracy: 0.5571 - 12s/epoch - 75ms/step\n",
            "Epoch 2/20\n",
            "160/160 - 2s - loss: 0.6622 - accuracy: 0.5993 - val_loss: 0.6405 - val_accuracy: 0.6355 - 2s/epoch - 14ms/step\n",
            "Epoch 3/20\n",
            "160/160 - 2s - loss: 0.6219 - accuracy: 0.6562 - val_loss: 0.6065 - val_accuracy: 0.6769 - 2s/epoch - 15ms/step\n",
            "Epoch 4/20\n",
            "160/160 - 2s - loss: 0.5932 - accuracy: 0.6761 - val_loss: 0.6020 - val_accuracy: 0.6691 - 2s/epoch - 15ms/step\n",
            "Epoch 5/20\n",
            "160/160 - 2s - loss: 0.5708 - accuracy: 0.7013 - val_loss: 0.5746 - val_accuracy: 0.6976 - 2s/epoch - 14ms/step\n",
            "Epoch 6/20\n",
            "160/160 - 2s - loss: 0.5392 - accuracy: 0.7258 - val_loss: 0.5299 - val_accuracy: 0.7407 - 2s/epoch - 14ms/step\n",
            "Epoch 7/20\n",
            "160/160 - 2s - loss: 0.5103 - accuracy: 0.7452 - val_loss: 0.4919 - val_accuracy: 0.7578 - 2s/epoch - 14ms/step\n",
            "Epoch 8/20\n",
            "160/160 - 2s - loss: 0.4870 - accuracy: 0.7650 - val_loss: 0.4981 - val_accuracy: 0.7580 - 2s/epoch - 14ms/step\n",
            "Epoch 9/20\n",
            "160/160 - 2s - loss: 0.4674 - accuracy: 0.7759 - val_loss: 0.5004 - val_accuracy: 0.7508 - 2s/epoch - 14ms/step\n",
            "Epoch 10/20\n",
            "160/160 - 2s - loss: 0.4432 - accuracy: 0.7906 - val_loss: 0.4707 - val_accuracy: 0.7740 - 2s/epoch - 14ms/step\n",
            "Epoch 11/20\n",
            "160/160 - 2s - loss: 0.4208 - accuracy: 0.8023 - val_loss: 0.4731 - val_accuracy: 0.7745 - 2s/epoch - 14ms/step\n",
            "Epoch 12/20\n",
            "160/160 - 2s - loss: 0.4014 - accuracy: 0.8153 - val_loss: 0.4614 - val_accuracy: 0.7801 - 2s/epoch - 14ms/step\n",
            "Epoch 13/20\n",
            "160/160 - 2s - loss: 0.3832 - accuracy: 0.8297 - val_loss: 0.4450 - val_accuracy: 0.7881 - 2s/epoch - 14ms/step\n",
            "Epoch 14/20\n",
            "160/160 - 2s - loss: 0.3596 - accuracy: 0.8396 - val_loss: 0.4471 - val_accuracy: 0.7976 - 2s/epoch - 14ms/step\n",
            "Epoch 15/20\n",
            "160/160 - 2s - loss: 0.3439 - accuracy: 0.8443 - val_loss: 0.4228 - val_accuracy: 0.7988 - 2s/epoch - 14ms/step\n",
            "Epoch 16/20\n",
            "160/160 - 2s - loss: 0.3277 - accuracy: 0.8560 - val_loss: 0.4240 - val_accuracy: 0.8099 - 2s/epoch - 14ms/step\n",
            "Epoch 17/20\n",
            "160/160 - 2s - loss: 0.2981 - accuracy: 0.8695 - val_loss: 0.4482 - val_accuracy: 0.8014 - 2s/epoch - 14ms/step\n",
            "Epoch 18/20\n",
            "160/160 - 2s - loss: 0.2902 - accuracy: 0.8753 - val_loss: 0.4180 - val_accuracy: 0.8114 - 2s/epoch - 14ms/step\n",
            "Epoch 19/20\n",
            "160/160 - 2s - loss: 0.2709 - accuracy: 0.8837 - val_loss: 0.4348 - val_accuracy: 0.7968 - 2s/epoch - 14ms/step\n",
            "Epoch 20/20\n",
            "160/160 - 2s - loss: 0.2573 - accuracy: 0.8920 - val_loss: 0.4561 - val_accuracy: 0.8051 - 2s/epoch - 14ms/step\n",
            "156/156 [==============================] - 1s 6ms/step - loss: 0.4627 - accuracy: 0.7986\n",
            "\n",
            "準確率= 0.7985972166061401\n"
          ]
        }
      ]
    }
  ]
}